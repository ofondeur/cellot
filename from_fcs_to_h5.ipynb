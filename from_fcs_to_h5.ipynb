{
 "cells": [
  {
   "cell_type": "markdown",
   "metadata": {},
   "source": [
    "### Import librairies"
   ]
  },
  {
   "cell_type": "code",
   "execution_count": 26,
   "metadata": {},
   "outputs": [],
   "source": [
    "import os\n",
    "import anndata\n",
    "import pandas as pd\n",
    "import anndata as ad\n",
    "from FlowCytometryTools import FCMeasurement\n",
    "import re\n",
    "import numpy as np\n",
    "from list_paths import create_list_of_paths,create_list_of_paths_spec_patients\n",
    "from plot_pred_vs_true import plot_result"
   ]
  },
  {
   "cell_type": "markdown",
   "metadata": {},
   "source": [
    "### Create functions to load and concatenate data"
   ]
  },
  {
   "cell_type": "code",
   "execution_count": 20,
   "metadata": {},
   "outputs": [],
   "source": [
    "def arcsinh_transform(X,cofactor=5):\n",
    "    return np.arcsinh(X/cofactor)"
   ]
  },
  {
   "cell_type": "code",
   "execution_count": 21,
   "metadata": {},
   "outputs": [],
   "source": [
    "def load_data_fcs(path,condition_name):\n",
    "    data = FCMeasurement(ID=\"Sample\", datafile=path)\n",
    "    anndata = ad.AnnData(data.data)\n",
    "    \n",
    "    pattern = r\"_(\\w+)\\s*-\\s*(\\w+)\\.fcs$\"\n",
    "    match_stim = re.search(pattern, path)\n",
    "    if match_stim:\n",
    "        #stim_type = match_stim.group(1)\n",
    "        cell_type = match_stim.group(2) \n",
    "        anndata.obs['drug']= condition_name\n",
    "        anndata.obs['cell_type']= cell_type\n",
    "    else:\n",
    "        print('No cell_type found, bad format')\n",
    "    anndata.X=arcsinh_transform(anndata.X)\n",
    "    return anndata"
   ]
  },
  {
   "cell_type": "code",
   "execution_count": 22,
   "metadata": {},
   "outputs": [],
   "source": [
    "def concatenate_2conditions_data(path_stim,stim_name,path_unstim,unstim_name,outdir_path):\n",
    "    unstim_anndata = load_data_fcs(path_unstim,unstim_name)\n",
    "    stim_anndata = load_data_fcs(path_stim,stim_name)\n",
    "\n",
    "    combined_anndata = stim_anndata.concatenate(unstim_anndata, batch_key=\"condition\", batch_categories=[\"stim\", \"control\"])\n",
    "    combined_anndata.write(outdir_path)\n",
    "    return"
   ]
  },
  {
   "cell_type": "code",
   "execution_count": null,
   "metadata": {},
   "outputs": [],
   "source": [
    "def concatenate_2conditions_multiple_data(path_stim_list,stim_name,path_unstim_list,unstim_name,outdir_path):\n",
    "    comb_unstim_anndata = load_data_fcs(path_unstim_list[0],unstim_name)\n",
    "    comb_stim_anndata = load_data_fcs(path_stim_list[0],stim_name)\n",
    "    for path_stim in path_stim_list[1:]:\n",
    "        stim_anndata = load_data_fcs(path_stim,stim_name)\n",
    "        comb_stim_anndata = comb_stim_anndata.concatenate(stim_anndata)\n",
    "        \n",
    "    for path_unstim in path_unstim_list[1:]:\n",
    "        unstim_anndata = load_data_fcs(path_unstim,unstim_name)\n",
    "        comb_unstim_anndata = comb_unstim_anndata.concatenate(unstim_anndata)\n",
    "    combined_anndata=comb_stim_anndata.concatenate(comb_unstim_anndata, batch_key=\"condition\", batch_categories=[\"stim\", \"control\"])\n",
    "    \n",
    "    combined_anndata.write(outdir_path)\n",
    "    return "
   ]
  },
  {
   "cell_type": "code",
   "execution_count": 24,
   "metadata": {},
   "outputs": [],
   "source": [
    "def concatenate_1condition_multiple_data(path_list,condition_name,outdir_path):\n",
    "    comb_anndata = load_data_fcs(path_list[0],condition_name)\n",
    "\n",
    "    for path in path_list[1:]:\n",
    "        new_anndata = load_data_fcs(path,condition_name)\n",
    "        comb_anndata = comb_anndata.concatenate(new_anndata)\n",
    "    comb_anndata.write(outdir_path)\n",
    "    return "
   ]
  },
  {
   "cell_type": "markdown",
   "metadata": {},
   "source": [
    "###  Examples"
   ]
  },
  {
   "cell_type": "code",
   "execution_count": 125,
   "metadata": {},
   "outputs": [
    {
     "name": "stderr",
     "output_type": "stream",
     "text": [
      "/Users/MacBook/miniconda3/envs/cellot_env/lib/python3.8/site-packages/anndata/_core/anndata.py:120: ImplicitModificationWarning: Transforming to str index.\n",
      "  warnings.warn(\"Transforming to str index.\", ImplicitModificationWarning)\n",
      "... storing 'drug' as categorical\n",
      "... storing 'cell_type' as categorical\n"
     ]
    }
   ],
   "source": [
    "path_unstim_list=create_list_of_paths(directory='/Users/MacBook/stanford/cellot/datasets/surge_prehab_controls - Gated Populations',stimulation='Unstim',cell_type='NK',patient_excluded='HCAA')\n",
    "path_stim_list=create_list_of_paths(directory='/Users/MacBook/stanford/cellot/datasets/surge_prehab_controls - Gated Populations',stimulation='IL',cell_type='NK',patient_excluded='HCAA')\n",
    "res=concatenate_2conditions_multiple_data(path_stim_list,'IL',path_unstim_list,'Unstim',\"datasets/sherlock_training_data/combined_IL_NK.h5ad\")\n"
   ]
  },
  {
   "cell_type": "markdown",
   "metadata": {},
   "source": [
    "### Pipeline for evaluation"
   ]
  },
  {
   "cell_type": "code",
   "execution_count": 116,
   "metadata": {},
   "outputs": [],
   "source": [
    "eval_4i=pd.read_csv(\"results/LPS_cMC/model-cellot/evals_iid_data_space/evals.csv\")"
   ]
  },
  {
   "cell_type": "code",
   "execution_count": 117,
   "metadata": {},
   "outputs": [
    {
     "name": "stdout",
     "output_type": "stream",
     "text": [
      "eval metric available: ['l2-means' 'l2-stds' 'r2-means' 'r2-stds' 'r2-pairwise_feat_corrs'\n",
      " 'l2-pairwise_feat_corrs' 'mmd' 'enrichment-k50' 'enrichment-k100']\n"
     ]
    }
   ],
   "source": [
    "print('eval metric available:',eval_4i['metric'].unique())"
   ]
  },
  {
   "cell_type": "code",
   "execution_count": 118,
   "metadata": {},
   "outputs": [
    {
     "data": {
      "text/plain": [
       "array([ 100,  250,  500, 1000, 1500])"
      ]
     },
     "execution_count": 118,
     "metadata": {},
     "output_type": "execute_result"
    }
   ],
   "source": [
    "eval_4i.ncells.unique()"
   ]
  },
  {
   "cell_type": "code",
   "execution_count": 16,
   "metadata": {},
   "outputs": [],
   "source": [
    "EVALUATION_MARKERS = [\n",
    "    '151Eu_pp38', '155Gd_pS6', '149Sm_pCREB', \n",
    "    '159Tb_pMAPKAPK2', '166Er_pNFkB', '167Er_pERK12'\n",
    "]"
   ]
  },
  {
   "cell_type": "markdown",
   "metadata": {},
   "source": [
    "train on CMC, pp38, pS6, LPS"
   ]
  },
  {
   "cell_type": "code",
   "execution_count": 107,
   "metadata": {},
   "outputs": [],
   "source": [
    "for marker in EVALUATION_MARKERS:\n",
    "    plot_result('results/LPS_cMC/model-cellot/unseen_data/prediction_HCAA2.csv','/Users/MacBook/stanford/cellot/results/LPS_cMC/model-cellot/unseen_data/combined_LPS_cMC_HCAA2.h5ad',marker,f\"results/LPS_cMC/model-cellot/unseen_data/LPS_cMC_{marker}.png\")"
   ]
  },
  {
   "cell_type": "code",
   "execution_count": 133,
   "metadata": {},
   "outputs": [],
   "source": [
    "ev=pd.read_csv(\"results/LPS_cMC/model-cellot/evals_iid_data_space/evals_151Eu_pp38.csv\")"
   ]
  },
  {
   "cell_type": "code",
   "execution_count": 134,
   "metadata": {},
   "outputs": [
    {
     "data": {
      "text/html": [
       "<div>\n",
       "<style scoped>\n",
       "    .dataframe tbody tr th:only-of-type {\n",
       "        vertical-align: middle;\n",
       "    }\n",
       "\n",
       "    .dataframe tbody tr th {\n",
       "        vertical-align: top;\n",
       "    }\n",
       "\n",
       "    .dataframe thead th {\n",
       "        text-align: right;\n",
       "    }\n",
       "</style>\n",
       "<table border=\"1\" class=\"dataframe\">\n",
       "  <thead>\n",
       "    <tr style=\"text-align: right;\">\n",
       "      <th></th>\n",
       "      <th>ncells</th>\n",
       "      <th>nfeatures</th>\n",
       "      <th>metric</th>\n",
       "      <th>value</th>\n",
       "    </tr>\n",
       "  </thead>\n",
       "  <tbody>\n",
       "    <tr>\n",
       "      <th>0</th>\n",
       "      <td>100</td>\n",
       "      <td>all</td>\n",
       "      <td>l2-means</td>\n",
       "      <td>0.051801</td>\n",
       "    </tr>\n",
       "    <tr>\n",
       "      <th>1</th>\n",
       "      <td>100</td>\n",
       "      <td>all</td>\n",
       "      <td>l2-stds</td>\n",
       "      <td>0.102063</td>\n",
       "    </tr>\n",
       "    <tr>\n",
       "      <th>2</th>\n",
       "      <td>100</td>\n",
       "      <td>all</td>\n",
       "      <td>r2-means</td>\n",
       "      <td>NaN</td>\n",
       "    </tr>\n",
       "    <tr>\n",
       "      <th>3</th>\n",
       "      <td>100</td>\n",
       "      <td>all</td>\n",
       "      <td>r2-stds</td>\n",
       "      <td>NaN</td>\n",
       "    </tr>\n",
       "    <tr>\n",
       "      <th>4</th>\n",
       "      <td>100</td>\n",
       "      <td>all</td>\n",
       "      <td>r2-pairwise_feat_corrs</td>\n",
       "      <td>NaN</td>\n",
       "    </tr>\n",
       "    <tr>\n",
       "      <th>...</th>\n",
       "      <td>...</td>\n",
       "      <td>...</td>\n",
       "      <td>...</td>\n",
       "      <td>...</td>\n",
       "    </tr>\n",
       "    <tr>\n",
       "      <th>445</th>\n",
       "      <td>1500</td>\n",
       "      <td>all</td>\n",
       "      <td>r2-pairwise_feat_corrs</td>\n",
       "      <td>NaN</td>\n",
       "    </tr>\n",
       "    <tr>\n",
       "      <th>446</th>\n",
       "      <td>1500</td>\n",
       "      <td>all</td>\n",
       "      <td>l2-pairwise_feat_corrs</td>\n",
       "      <td>0.000000</td>\n",
       "    </tr>\n",
       "    <tr>\n",
       "      <th>447</th>\n",
       "      <td>1500</td>\n",
       "      <td>all</td>\n",
       "      <td>mmd</td>\n",
       "      <td>0.001582</td>\n",
       "    </tr>\n",
       "    <tr>\n",
       "      <th>448</th>\n",
       "      <td>1500</td>\n",
       "      <td>all</td>\n",
       "      <td>enrichment-k50</td>\n",
       "      <td>0.511480</td>\n",
       "    </tr>\n",
       "    <tr>\n",
       "      <th>449</th>\n",
       "      <td>1500</td>\n",
       "      <td>all</td>\n",
       "      <td>enrichment-k100</td>\n",
       "      <td>0.512840</td>\n",
       "    </tr>\n",
       "  </tbody>\n",
       "</table>\n",
       "<p>450 rows × 4 columns</p>\n",
       "</div>"
      ],
      "text/plain": [
       "     ncells nfeatures                  metric     value\n",
       "0       100       all                l2-means  0.051801\n",
       "1       100       all                 l2-stds  0.102063\n",
       "2       100       all                r2-means       NaN\n",
       "3       100       all                 r2-stds       NaN\n",
       "4       100       all  r2-pairwise_feat_corrs       NaN\n",
       "..      ...       ...                     ...       ...\n",
       "445    1500       all  r2-pairwise_feat_corrs       NaN\n",
       "446    1500       all  l2-pairwise_feat_corrs  0.000000\n",
       "447    1500       all                     mmd  0.001582\n",
       "448    1500       all          enrichment-k50  0.511480\n",
       "449    1500       all         enrichment-k100  0.512840\n",
       "\n",
       "[450 rows x 4 columns]"
      ]
     },
     "execution_count": 134,
     "metadata": {},
     "output_type": "execute_result"
    }
   ],
   "source": [
    "ev"
   ]
  }
 ],
 "metadata": {
  "kernelspec": {
   "display_name": "cellot_env",
   "language": "python",
   "name": "python3"
  },
  "language_info": {
   "codemirror_mode": {
    "name": "ipython",
    "version": 3
   },
   "file_extension": ".py",
   "mimetype": "text/x-python",
   "name": "python",
   "nbconvert_exporter": "python",
   "pygments_lexer": "ipython3",
   "version": "3.8.20"
  }
 },
 "nbformat": 4,
 "nbformat_minor": 2
}
