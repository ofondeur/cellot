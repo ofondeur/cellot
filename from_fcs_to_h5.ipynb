{
 "cells": [
  {
   "cell_type": "code",
   "execution_count": 4,
   "metadata": {},
   "outputs": [],
   "source": [
    "import os\n",
    "import anndata\n",
    "import pandas as pd\n",
    "import anndata as ad\n",
    "from FlowCytometryTools import FCMeasurement"
   ]
  },
  {
   "cell_type": "markdown",
   "metadata": {},
   "source": [
    "### Create functions to load and concatenate data"
   ]
  },
  {
   "cell_type": "code",
   "execution_count": null,
   "metadata": {},
   "outputs": [],
   "source": [
    "def load_data_fcs(path):\n",
    "    data = FCMeasurement(ID=\"Sample\", datafile=path)\n",
    "    anndata = ad.AnnData(data.data)\n",
    "    anndata.obs['drug']= 'Stim_1_Bcell'\n",
    "    anndata.obs['cell_type']= 'Bcell'\n",
    "    return anndata"
   ]
  },
  {
   "cell_type": "code",
   "execution_count": 6,
   "metadata": {},
   "outputs": [],
   "source": [
    "def concatenate_data(path_stim, stim_name,path_unstim,unstim_name,outdir_path):\n",
    "    unstim_anndata = load_data_fcs(path_unstim)\n",
    "    stim_anndata = load_data_fcs(path_stim)\n",
    "    stim_anndata.obs['drug']= stim_name\n",
    "    unstim_anndata.obs['drug']= unstim_name\n",
    "    combined_anndata = stim_anndata.concatenate(unstim_anndata, batch_key=\"condition\", batch_categories=[\"stim\", \"control\"])\n",
    "    combined_anndata.write(outdir_path)\n",
    "    return"
   ]
  },
  {
   "cell_type": "markdown",
   "metadata": {},
   "source": [
    "###  Examples"
   ]
  },
  {
   "cell_type": "code",
   "execution_count": 7,
   "metadata": {},
   "outputs": [
    {
     "name": "stderr",
     "output_type": "stream",
     "text": [
      "/Users/MacBook/miniconda3/envs/cellot_env/lib/python3.8/site-packages/anndata/_core/anndata.py:120: ImplicitModificationWarning: Transforming to str index.\n",
      "  warnings.warn(\"Transforming to str index.\", ImplicitModificationWarning)\n",
      "... storing 'drug' as categorical\n"
     ]
    }
   ],
   "source": [
    "path_unstim='/Users/MacBook/stanford/cellot/datasets/atest_data/controls_1_Surge_3_HCAA_BL_Unstim - Bcells.fcs'\n",
    "path_stim = \"/Users/MacBook/stanford/cellot/datasets/atest_data/controls_1_Surge_3_IC1_IC1_Stim_1 - Bcells.fcs\"\n",
    "outdir_path = \"/Users/MacBook/stanford/cellot/datasets/atest_data/combined_Bcell.h5ad\"\n",
    "concatenate_data(path_stim, \"Stim_1_Bcell\", path_unstim, \"Unstim_Bcell\", outdir_path)\n",
    "combined_anndata=ad.read(\"/Users/MacBook/stanford/cellot/datasets/atest_data/combined_Bcell.h5ad\")"
   ]
  },
  {
   "cell_type": "code",
   "execution_count": null,
   "metadata": {},
   "outputs": [
    {
     "name": "stderr",
     "output_type": "stream",
     "text": [
      "/Users/MacBook/miniconda3/envs/cellot_env/lib/python3.8/site-packages/anndata/_core/anndata.py:120: ImplicitModificationWarning: Transforming to str index.\n",
      "  warnings.warn(\"Transforming to str index.\", ImplicitModificationWarning)\n",
      "... storing 'drug' as categorical\n"
     ]
    }
   ],
   "source": [
    "path_unstim_to_predict='/Users/MacBook/stanford/cellot/datasets/surge_prehab_controls - Gated Populations/controls_1_Surge_3_HCBB_BL_Unstim - Bcells.fcs'\n",
    "unstim_anndata_to_predict = load_data_fcs(path_unstim_to_predict)\n",
    "unstim_anndata_to_predict.write(\"/Users/MacBook/stanford/cellot/datasets/atest_data/unstim_Bcell_to_predict.h5ad\")"
   ]
  },
  {
   "cell_type": "markdown",
   "metadata": {},
   "source": [
    "### Pipeline for evaluation"
   ]
  },
  {
   "cell_type": "code",
   "execution_count": null,
   "metadata": {},
   "outputs": [],
   "source": [
    "eval_4i=pd.read_csv(\"/Users/MacBook/stanford/cellot/results/4i/drug-cisplatin/model-cellot/evals_iid_data_space/evals.csv\")"
   ]
  },
  {
   "cell_type": "code",
   "execution_count": 10,
   "metadata": {},
   "outputs": [
    {
     "name": "stdout",
     "output_type": "stream",
     "text": [
      "eval metric available: ['l2-means' 'l2-stds' 'r2-means' 'r2-stds' 'r2-pairwise_feat_corrs'\n",
      " 'l2-pairwise_feat_corrs' 'mmd' 'enrichment-k50' 'enrichment-k100']\n"
     ]
    }
   ],
   "source": [
    "print('eval metric available:',eval_4i['metric'].unique())"
   ]
  },
  {
   "cell_type": "code",
   "execution_count": 12,
   "metadata": {},
   "outputs": [
    {
     "data": {
      "text/plain": [
       "array([100, 250, 500])"
      ]
     },
     "execution_count": 12,
     "metadata": {},
     "output_type": "execute_result"
    }
   ],
   "source": [
    "eval_4i.ncells.unique()"
   ]
  }
 ],
 "metadata": {
  "kernelspec": {
   "display_name": "cellot_env",
   "language": "python",
   "name": "python3"
  },
  "language_info": {
   "codemirror_mode": {
    "name": "ipython",
    "version": 3
   },
   "file_extension": ".py",
   "mimetype": "text/x-python",
   "name": "python",
   "nbconvert_exporter": "python",
   "pygments_lexer": "ipython3",
   "version": "3.8.20"
  }
 },
 "nbformat": 4,
 "nbformat_minor": 2
}
