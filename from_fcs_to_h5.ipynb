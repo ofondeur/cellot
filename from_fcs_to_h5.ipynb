{
 "cells": [
  {
   "cell_type": "code",
   "execution_count": 48,
   "metadata": {},
   "outputs": [],
   "source": [
    "import os\n",
    "import anndata\n",
    "import pandas as pd\n",
    "import anndata as ad\n",
    "from FlowCytometryTools import FCMeasurement\n",
    "import re\n",
    "import numpy as np"
   ]
  },
  {
   "cell_type": "markdown",
   "metadata": {},
   "source": [
    "### Create functions to load and concatenate data"
   ]
  },
  {
   "cell_type": "code",
   "execution_count": 49,
   "metadata": {},
   "outputs": [],
   "source": [
    "def arcsinh_transform(X,cofactor=5):\n",
    "    return np.arcsinh(X/cofactor)"
   ]
  },
  {
   "cell_type": "code",
   "execution_count": 51,
   "metadata": {},
   "outputs": [],
   "source": [
    "def load_data_fcs(path,condition_name):\n",
    "    data = FCMeasurement(ID=\"Sample\", datafile=path)\n",
    "    anndata = ad.AnnData(data.data)\n",
    "    \n",
    "    pattern = r\"_(\\w+)\\s*-\\s*(\\w+)\\.fcs$\"\n",
    "    match_stim = re.search(pattern, path)\n",
    "    if match_stim:\n",
    "        #stim_type = match_stim.group(1)\n",
    "        cell_type = match_stim.group(2) \n",
    "        anndata.obs['drug']= condition_name\n",
    "        anndata.obs['cell_type']= cell_type\n",
    "    else:\n",
    "        print('No cell_type found, bad format')\n",
    "    anndata.X=arcsinh_transform(anndata.X)\n",
    "    return anndata"
   ]
  },
  {
   "cell_type": "code",
   "execution_count": 52,
   "metadata": {},
   "outputs": [],
   "source": [
    "def concatenate_2conditions_data(path_stim,stim_name,path_unstim,unstim_name,outdir_path):\n",
    "    unstim_anndata = load_data_fcs(path_unstim,unstim_name)\n",
    "    stim_anndata = load_data_fcs(path_stim,stim_name)\n",
    "\n",
    "    combined_anndata = stim_anndata.concatenate(unstim_anndata, batch_key=\"condition\", batch_categories=[\"stim\", \"control\"])\n",
    "    combined_anndata.write(outdir_path)\n",
    "    return"
   ]
  },
  {
   "cell_type": "code",
   "execution_count": 41,
   "metadata": {},
   "outputs": [],
   "source": [
    "def concatenate_2conditions_multiple_data(path_stim_list,stim_name,path_unstim_list,unstim_name,outdir_path):\n",
    "    comb_unstim_anndata = load_data_fcs(path_unstim_list[0],unstim_name)\n",
    "    comb_stim_anndata = load_data_fcs(path_stim_list[0],stim_name)\n",
    "    compt_un=1\n",
    "    compt_st=1\n",
    "    for path_stim,path_unstim in zip(path_stim_list[1:],path_unstim_list[1:]):\n",
    "        unstim_anndata = load_data_fcs(path_unstim,unstim_name)\n",
    "        stim_anndata = load_data_fcs(path_stim,stim_name)\n",
    "\n",
    "        comb_unstim_anndata = comb_unstim_anndata.concatenate(unstim_anndata)\n",
    "        comb_stim_anndata = comb_stim_anndata.concatenate(stim_anndata)\n",
    "        compt_un+=1\n",
    "        compt_st+=1\n",
    "        print(compt_un,compt_st)\n",
    "    combined_anndata=comb_stim_anndata.concatenate(comb_unstim_anndata, batch_key=\"condition\", batch_categories=[\"stim\", \"control\"])\n",
    "    \n",
    "    combined_anndata.write(outdir_path)\n",
    "    return "
   ]
  },
  {
   "cell_type": "code",
   "execution_count": 42,
   "metadata": {},
   "outputs": [],
   "source": [
    "def concatenate_1condition_multiple_data(path_list,condition_name,outdir_path):\n",
    "    comb_anndata = load_data_fcs(path_list[0],condition_name)\n",
    "\n",
    "    for path in path_list[1:]:\n",
    "        new_anndata = load_data_fcs(path,condition_name)\n",
    "        comb_anndata = comb_anndata.concatenate(new_anndata)\n",
    "    comb_anndata.write(outdir_path)\n",
    "    return "
   ]
  },
  {
   "cell_type": "code",
   "execution_count": 67,
   "metadata": {},
   "outputs": [],
   "source": [
    "def create_list_of_paths(directory,stimulation,cell_type=None,sample=None,patient_excluded=None):\n",
    "    paths_list = []\n",
    "    for filename in os.listdir(directory):\n",
    "        if stimulation in filename and (cell_type is None or cell_type in filename) and (sample is None or sample in filename) and (patient_excluded is None or patient_excluded not in filename):\n",
    "            paths_list.append(os.path.join(directory, filename))\n",
    "    return paths_list\n"
   ]
  },
  {
   "cell_type": "markdown",
   "metadata": {},
   "source": [
    "###  Examples"
   ]
  },
  {
   "cell_type": "code",
   "execution_count": 115,
   "metadata": {},
   "outputs": [
    {
     "name": "stderr",
     "output_type": "stream",
     "text": [
      "/Users/MacBook/miniconda3/envs/cellot_env/lib/python3.8/site-packages/anndata/_core/anndata.py:120: ImplicitModificationWarning: Transforming to str index.\n",
      "  warnings.warn(\"Transforming to str index.\", ImplicitModificationWarning)\n",
      "... storing 'drug' as categorical\n",
      "... storing 'cell_type' as categorical\n"
     ]
    }
   ],
   "source": [
    "path_unstim='datasets/atest_data/controls_1_Surge_3_HCAA_BL_Unstim - Bcells.fcs'\n",
    "path_stim = \"datasets/atest_data/controls_1_Surge_3_IC1_IC1_Stim_1 - Bcells.fcs\"\n",
    "outdir_path = \"datasets/atest_data/combined_Bcell_norm.h5ad\"\n",
    "concatenate_2conditions_data(path_stim,'Stim_1_Bcell', path_unstim,'Unstim_Bcell', outdir_path)\n",
    "combined_anndata=ad.read(\"datasets/atest_data/combined_Bcell_norm.h5ad\")"
   ]
  },
  {
   "cell_type": "code",
   "execution_count": 54,
   "metadata": {},
   "outputs": [
    {
     "name": "stdout",
     "output_type": "stream",
     "text": [
      "LPS (126, 849626243)\n",
      "Unstim (133, 1048400869)\n"
     ]
    }
   ],
   "source": [
    "directory = '/Users/MacBook/stanford/cellot/datasets/surge_prehab_controls - Gated Populations'\n",
    "stimulations = ['LPS','Unstim']\n",
    "def count_files(directory,stimulation):\n",
    "    count = 0\n",
    "    sumsize = 0\n",
    "    for filename in os.listdir(directory):\n",
    "        if filename.endswith(\".fcs\") and stimulation in filename:\n",
    "            count+=1\n",
    "            sumsize+=os.path.getsize(os.path.join(directory, filename))\n",
    "    return count,sumsize\n",
    "for stimulation in stimulations:\n",
    "    print(stimulation,count_files(directory,stimulation))"
   ]
  },
  {
   "cell_type": "code",
   "execution_count": 68,
   "metadata": {},
   "outputs": [
    {
     "name": "stderr",
     "output_type": "stream",
     "text": [
      "/Users/MacBook/miniconda3/envs/cellot_env/lib/python3.8/site-packages/anndata/_core/anndata.py:120: ImplicitModificationWarning: Transforming to str index.\n",
      "  warnings.warn(\"Transforming to str index.\", ImplicitModificationWarning)\n"
     ]
    },
    {
     "name": "stdout",
     "output_type": "stream",
     "text": [
      "2 2\n",
      "3 3\n",
      "4 4\n",
      "5 5\n",
      "6 6\n",
      "7 7\n",
      "8 8\n",
      "9 9\n",
      "10 10\n",
      "11 11\n",
      "12 12\n",
      "13 13\n",
      "14 14\n",
      "15 15\n",
      "16 16\n"
     ]
    },
    {
     "name": "stderr",
     "output_type": "stream",
     "text": [
      "... storing 'drug' as categorical\n",
      "... storing 'cell_type' as categorical\n"
     ]
    }
   ],
   "source": [
    "path_unstim_list=create_list_of_paths(directory='/Users/MacBook/stanford/cellot/datasets/surge_prehab_controls - Gated Populations',stimulation='Unstim',cell_type='Bcells',patient_excluded='HCAA')\n",
    "path_stim_list=create_list_of_paths(directory='/Users/MacBook/stanford/cellot/datasets/surge_prehab_controls - Gated Populations',stimulation='LPS',cell_type='Bcells',patient_excluded='HCAA')\n",
    "res=concatenate_2conditions_multiple_data(path_stim_list,'LPS',path_unstim_list,'Unstim',\"datasets/sherlock_training_data/combined_LPS.h5ad\")\n"
   ]
  },
  {
   "cell_type": "code",
   "execution_count": 61,
   "metadata": {},
   "outputs": [
    {
     "data": {
      "text/plain": [
       "['/Users/MacBook/stanford/cellot/datasets/surge_prehab_controls - Gated Populations/controls_1_Surge_3_HCBB_BL_Unstim - Bcells.fcs',\n",
       " '/Users/MacBook/stanford/cellot/datasets/surge_prehab_controls - Gated Populations/controls_1_Surge_3_HCBB_IDX_Unstim - Bcells.fcs']"
      ]
     },
     "execution_count": 61,
     "metadata": {},
     "output_type": "execute_result"
    }
   ],
   "source": [
    "path_unstim_list"
   ]
  },
  {
   "cell_type": "code",
   "execution_count": 14,
   "metadata": {},
   "outputs": [
    {
     "data": {
      "text/plain": [
       "(18, 19)"
      ]
     },
     "execution_count": 14,
     "metadata": {},
     "output_type": "execute_result"
    }
   ],
   "source": [
    "len(path_stim_list),len(path_unstim_list)   "
   ]
  },
  {
   "cell_type": "markdown",
   "metadata": {},
   "source": [
    "### Pipeline for evaluation"
   ]
  },
  {
   "cell_type": "code",
   "execution_count": null,
   "metadata": {},
   "outputs": [],
   "source": [
    "eval_4i=pd.read_csv(\"/Users/MacBook/stanford/cellot/results/4i/drug-cisplatin/model-cellot/evals_iid_data_space/evals.csv\")"
   ]
  },
  {
   "cell_type": "code",
   "execution_count": 10,
   "metadata": {},
   "outputs": [
    {
     "name": "stdout",
     "output_type": "stream",
     "text": [
      "eval metric available: ['l2-means' 'l2-stds' 'r2-means' 'r2-stds' 'r2-pairwise_feat_corrs'\n",
      " 'l2-pairwise_feat_corrs' 'mmd' 'enrichment-k50' 'enrichment-k100']\n"
     ]
    }
   ],
   "source": [
    "print('eval metric available:',eval_4i['metric'].unique())"
   ]
  },
  {
   "cell_type": "code",
   "execution_count": 12,
   "metadata": {},
   "outputs": [
    {
     "data": {
      "text/plain": [
       "array([100, 250, 500])"
      ]
     },
     "execution_count": 12,
     "metadata": {},
     "output_type": "execute_result"
    }
   ],
   "source": [
    "eval_4i.ncells.unique()"
   ]
  },
  {
   "cell_type": "code",
   "execution_count": null,
   "metadata": {},
   "outputs": [],
   "source": [
    "import numpy as np\n",
    "import matplotlib.pyplot as plt\n",
    "import seaborn as sns\n",
    "def create_density_plots(dist_data, out_file, title_suffix=\"\"):\n",
    "    \"\"\"\n",
    "    Create density plots for Unstim, Stim True, and Stim Pred distributions.\n",
    "    \"\"\"\n",
    "    sns.set_theme(style=\"whitegrid\")\n",
    "    pts_sorted = sorted(dist_data.keys())\n",
    "\n",
    "    fig = plt.figure(figsize=(18, 18))\n",
    "    fig.suptitle(f\"Density Plots {title_suffix}\", fontsize=16)\n",
    "\n",
    "    rows = int(np.ceil(len(pts_sorted) / 3))\n",
    "    for i, pt in enumerate(pts_sorted, start=1):\n",
    "        ax = fig.add_subplot(rows, 3, i)\n",
    "        cat_labels = [\"Unstim\", \"Stim True\", \"Stim Pred\"]\n",
    "        cat_colors = [\"blue\", \"red\", \"green\"]\n",
    "        for label, color in zip(cat_labels, cat_colors):\n",
    "            arr = dist_data[pt][label]\n",
    "            if arr.size > 0:\n",
    "                sns.kdeplot(arr, ax=ax, label=f\"{label} (n={arr.size})\", color=color, fill=False)\n",
    "        ax.set_title(f\"Patient: {pt}\")\n",
    "        ax.legend(fontsize=8)\n",
    "\n",
    "    plt.tight_layout(rect=[0, 0.03, 1, 0.95])\n",
    "    plt.savefig(out_file, dpi=150)\n",
    "    plt.close()"
   ]
  },
  {
   "cell_type": "code",
   "execution_count": null,
   "metadata": {},
   "outputs": [],
   "source": [
    "target=ad.read('./datasets/atest_data/combined_Bcell.h5ad')\n",
    "target1=target[:,'150Nd_pSTAT5'].copy()\n",
    "t=pd.DataFrame(target1.X)\n",
    "stim=pd.DataFrame(target1[target1.obs['condition']=='stim'].X)\n",
    "unstim=pd.DataFrame(target1[target1.obs['condition']=='control'].X)"
   ]
  },
  {
   "cell_type": "code",
   "execution_count": 96,
   "metadata": {},
   "outputs": [],
   "source": [
    "def plot_result(prediction_path,original_path,marker,outdir_path):\n",
    "    target=ad.read(original_path)\n",
    "    target1=target[:,marker].copy()\n",
    "    stim=pd.DataFrame(target1[target1.obs['condition']=='stim'].X)\n",
    "    unstim=pd.DataFrame(target1[target1.obs['condition']=='control'].X)\n",
    "\n",
    "    dataf=pd.read_csv(prediction_path)\n",
    "    dataf[\"Stim Pred\"]=dataf[marker]\n",
    "    dataf['Stim True']=stim.iloc[:,0]\n",
    "    dataf['Unstim']=unstim.iloc[:,0]\n",
    "    \n",
    "    dist_data = {\n",
    "    \"Patient_1\": {\n",
    "        \"Stim True\": dataf[\"Stim True\"].values,\n",
    "        \"Stim Pred\": dataf[\"Stim Pred\"].values,\n",
    "        \"Unstim\": dataf[\"Unstim\"].values}}\n",
    "\n",
    "    create_density_plots(dist_data, outdir_path, title_suffix=\"\")     \n",
    "    return dataf[['Stim True','Stim Pred','Unstim']]"
   ]
  },
  {
   "cell_type": "code",
   "execution_count": null,
   "metadata": {},
   "outputs": [],
   "source": [
    "EVALUATION_MARKERS = [\n",
    "    '151Eu_pp38', '155Gd_pS6', '149Sm_pCREB', \n",
    "    '159Tb_pMAPKAPK2', '166Er_pNFkB', '167Er_pERK12'\n",
    "]"
   ]
  },
  {
   "cell_type": "code",
   "execution_count": 98,
   "metadata": {},
   "outputs": [
    {
     "data": {
      "text/html": [
       "<div>\n",
       "<style scoped>\n",
       "    .dataframe tbody tr th:only-of-type {\n",
       "        vertical-align: middle;\n",
       "    }\n",
       "\n",
       "    .dataframe tbody tr th {\n",
       "        vertical-align: top;\n",
       "    }\n",
       "\n",
       "    .dataframe thead th {\n",
       "        text-align: right;\n",
       "    }\n",
       "</style>\n",
       "<table border=\"1\" class=\"dataframe\">\n",
       "  <thead>\n",
       "    <tr style=\"text-align: right;\">\n",
       "      <th></th>\n",
       "      <th>Stim True</th>\n",
       "      <th>Stim Pred</th>\n",
       "      <th>Unstim</th>\n",
       "    </tr>\n",
       "  </thead>\n",
       "  <tbody>\n",
       "    <tr>\n",
       "      <th>0</th>\n",
       "      <td>0.000000</td>\n",
       "      <td>7.837983</td>\n",
       "      <td>0.00000</td>\n",
       "    </tr>\n",
       "    <tr>\n",
       "      <th>1</th>\n",
       "      <td>9.945632</td>\n",
       "      <td>3.335905</td>\n",
       "      <td>0.00000</td>\n",
       "    </tr>\n",
       "    <tr>\n",
       "      <th>2</th>\n",
       "      <td>6.893324</td>\n",
       "      <td>14.173313</td>\n",
       "      <td>0.00000</td>\n",
       "    </tr>\n",
       "    <tr>\n",
       "      <th>3</th>\n",
       "      <td>21.470419</td>\n",
       "      <td>3.335905</td>\n",
       "      <td>1.05323</td>\n",
       "    </tr>\n",
       "    <tr>\n",
       "      <th>4</th>\n",
       "      <td>16.403343</td>\n",
       "      <td>3.335905</td>\n",
       "      <td>0.00000</td>\n",
       "    </tr>\n",
       "    <tr>\n",
       "      <th>...</th>\n",
       "      <td>...</td>\n",
       "      <td>...</td>\n",
       "      <td>...</td>\n",
       "    </tr>\n",
       "    <tr>\n",
       "      <th>5934</th>\n",
       "      <td>5.409459</td>\n",
       "      <td>14.412180</td>\n",
       "      <td>0.00000</td>\n",
       "    </tr>\n",
       "    <tr>\n",
       "      <th>5935</th>\n",
       "      <td>6.349995</td>\n",
       "      <td>8.230350</td>\n",
       "      <td>0.00000</td>\n",
       "    </tr>\n",
       "    <tr>\n",
       "      <th>5936</th>\n",
       "      <td>3.295533</td>\n",
       "      <td>3.335905</td>\n",
       "      <td>0.00000</td>\n",
       "    </tr>\n",
       "    <tr>\n",
       "      <th>5937</th>\n",
       "      <td>2.568134</td>\n",
       "      <td>3.335905</td>\n",
       "      <td>0.00000</td>\n",
       "    </tr>\n",
       "    <tr>\n",
       "      <th>5938</th>\n",
       "      <td>1.888604</td>\n",
       "      <td>3.335905</td>\n",
       "      <td>0.00000</td>\n",
       "    </tr>\n",
       "  </tbody>\n",
       "</table>\n",
       "<p>5939 rows × 3 columns</p>\n",
       "</div>"
      ],
      "text/plain": [
       "      Stim True  Stim Pred   Unstim\n",
       "0      0.000000   7.837983  0.00000\n",
       "1      9.945632   3.335905  0.00000\n",
       "2      6.893324  14.173313  0.00000\n",
       "3     21.470419   3.335905  1.05323\n",
       "4     16.403343   3.335905  0.00000\n",
       "...         ...        ...      ...\n",
       "5934   5.409459  14.412180  0.00000\n",
       "5935   6.349995   8.230350  0.00000\n",
       "5936   3.295533   3.335905  0.00000\n",
       "5937   2.568134   3.335905  0.00000\n",
       "5938   1.888604   3.335905  0.00000\n",
       "\n",
       "[5939 rows x 3 columns]"
      ]
     },
     "execution_count": 98,
     "metadata": {},
     "output_type": "execute_result"
    }
   ],
   "source": [
    "plot_result('/Users/MacBook/stanford/cellot/results/test_new/unseen_data_result/prediction.csv','./datasets/atest_data/combined_Bcell.h5ad','150Nd_pSTAT5',\"/Users/MacBook/stanford/cellot/plots/density_plot_test1.png\")"
   ]
  }
 ],
 "metadata": {
  "kernelspec": {
   "display_name": "cellot_env",
   "language": "python",
   "name": "python3"
  },
  "language_info": {
   "codemirror_mode": {
    "name": "ipython",
    "version": 3
   },
   "file_extension": ".py",
   "mimetype": "text/x-python",
   "name": "python",
   "nbconvert_exporter": "python",
   "pygments_lexer": "ipython3",
   "version": "3.8.20"
  }
 },
 "nbformat": 4,
 "nbformat_minor": 2
}
