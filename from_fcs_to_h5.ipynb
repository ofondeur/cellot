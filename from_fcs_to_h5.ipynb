{
 "cells": [
  {
   "cell_type": "code",
   "execution_count": 12,
   "metadata": {},
   "outputs": [],
   "source": [
    "import os\n",
    "import anndata\n",
    "import pandas as pd\n",
    "import anndata as ad\n",
    "from FlowCytometryTools import FCMeasurement\n",
    "import re"
   ]
  },
  {
   "cell_type": "markdown",
   "metadata": {},
   "source": [
    "### Create functions to load and concatenate data"
   ]
  },
  {
   "cell_type": "code",
   "execution_count": 32,
   "metadata": {},
   "outputs": [],
   "source": [
    "def load_data_fcs(path,condition_name):\n",
    "    data = FCMeasurement(ID=\"Sample\", datafile=path)\n",
    "    anndata = ad.AnnData(data.data)\n",
    "    \n",
    "    pattern = r\"_(\\w+)\\s*-\\s*(\\w+)\\.fcs$\"\n",
    "    match_stim = re.search(pattern, path)\n",
    "    if match_stim:\n",
    "        #stim_type = match_stim.group(1)\n",
    "        cell_type = match_stim.group(2) \n",
    "        anndata.obs['drug']= condition_name\n",
    "        anndata.obs['cell_type']= cell_type\n",
    "    return anndata"
   ]
  },
  {
   "cell_type": "code",
   "execution_count": null,
   "metadata": {},
   "outputs": [],
   "source": [
    "def concatenate_2conditions_data(path_stim,stim_name,path_unstim,unstim_name,outdir_path):\n",
    "    unstim_anndata = load_data_fcs(path_unstim,unstim_name)\n",
    "    stim_anndata = load_data_fcs(path_stim,stim_name)\n",
    "\n",
    "    combined_anndata = stim_anndata.concatenate(unstim_anndata, batch_key=\"condition\", batch_categories=[\"stim\", \"control\"])\n",
    "    combined_anndata.write(outdir_path)\n",
    "    return"
   ]
  },
  {
   "cell_type": "code",
   "execution_count": 33,
   "metadata": {},
   "outputs": [],
   "source": [
    "def concatenate_2conditions_mutliple_data(path_stim_list,stim_name,path_unstim_list,unstim_name,outdir_path):\n",
    "    comb_unstim_anndata = load_data_fcs(path_unstim_list[0],unstim_name)\n",
    "    comb_stim_anndata = load_data_fcs(path_stim_list[0],stim_name)\n",
    "\n",
    "    for path_stim,path_unstim in zip(path_stim_list[1:],path_unstim_list[1:]):\n",
    "        unstim_anndata = load_data_fcs(path_unstim,unstim_name)\n",
    "        stim_anndata = load_data_fcs(path_stim,stim_name)\n",
    "\n",
    "        comb_unstim_anndata = comb_unstim_anndata.concatenate(unstim_anndata)\n",
    "        comb_stim_anndata = comb_stim_anndata.concatenate(stim_anndata)\n",
    "    combined_anndata=comb_stim_anndata.concatenate(comb_unstim_anndata, batch_key=\"condition\", batch_categories=[\"stim\", \"control\"])\n",
    "    \n",
    "    #combined_anndata.write(outdir_path)\n",
    "    return combined_anndata"
   ]
  },
  {
   "cell_type": "markdown",
   "metadata": {},
   "source": [
    "###  Examples"
   ]
  },
  {
   "cell_type": "code",
   "execution_count": 24,
   "metadata": {},
   "outputs": [
    {
     "name": "stderr",
     "output_type": "stream",
     "text": [
      "/Users/MacBook/miniconda3/envs/cellot_env/lib/python3.8/site-packages/anndata/_core/anndata.py:120: ImplicitModificationWarning: Transforming to str index.\n",
      "  warnings.warn(\"Transforming to str index.\", ImplicitModificationWarning)\n",
      "... storing 'drug' as categorical\n",
      "... storing 'cell_type' as categorical\n"
     ]
    }
   ],
   "source": [
    "path_unstim='/Users/MacBook/stanford/cellot/datasets/atest_data/controls_1_Surge_3_HCAA_BL_Unstim - Bcells.fcs'\n",
    "path_stim = \"/Users/MacBook/stanford/cellot/datasets/atest_data/controls_1_Surge_3_IC1_IC1_Stim_1 - Bcells.fcs\"\n",
    "outdir_path = \"/Users/MacBook/stanford/cellot/datasets/atest_data/combined_Bcell3.h5ad\"\n",
    "concatenate_2conditions_data(path_stim,'Stim_1_Bcell', path_unstim,'Unstim_Bcell', outdir_path)\n",
    "combined_anndata=ad.read(\"/Users/MacBook/stanford/cellot/datasets/atest_data/combined_Bcell3.h5ad\")"
   ]
  },
  {
   "cell_type": "code",
   "execution_count": null,
   "metadata": {},
   "outputs": [
    {
     "name": "stderr",
     "output_type": "stream",
     "text": [
      "/Users/MacBook/miniconda3/envs/cellot_env/lib/python3.8/site-packages/anndata/_core/anndata.py:120: ImplicitModificationWarning: Transforming to str index.\n",
      "  warnings.warn(\"Transforming to str index.\", ImplicitModificationWarning)\n",
      "... storing 'drug' as categorical\n"
     ]
    }
   ],
   "source": [
    "path_unstim_to_predict='/Users/MacBook/stanford/cellot/datasets/surge_prehab_controls - Gated Populations/controls_1_Surge_3_HCBB_BL_Unstim - Bcells.fcs'\n",
    "unstim_anndata_to_predict = load_data_fcs(path_unstim_to_predict)\n",
    "unstim_anndata_to_predict.write(\"/Users/MacBook/stanford/cellot/datasets/atest_data/unstim_Bcell_to_predict.h5ad\")"
   ]
  },
  {
   "cell_type": "code",
   "execution_count": null,
   "metadata": {},
   "outputs": [],
   "source": [
    "path_unstim_list=['/Users/MacBook/stanford/cellot/datasets/surge_prehab_controls - Gated Populations/controls_1_Surge_3_HCKK_IDX_Unstim - NK.fcs']\n",
    "path_stim_list=['datasets/surge_prehab_controls - Gated Populations/controls_1_Surge_3_IC1_IC1_Stim_1 - granulocytes.fcs']\n",
    "res=concatenate_2conditions_mutliple_data(path_stim_list,'Stim_1',path_unstim_list,'Unstim',\"/Users/MacBook/stanford/cellot/datasets/atest_data/combined_multiple.h5ad\")"
   ]
  },
  {
   "cell_type": "markdown",
   "metadata": {},
   "source": [
    "### Pipeline for evaluation"
   ]
  },
  {
   "cell_type": "code",
   "execution_count": null,
   "metadata": {},
   "outputs": [],
   "source": [
    "eval_4i=pd.read_csv(\"/Users/MacBook/stanford/cellot/results/4i/drug-cisplatin/model-cellot/evals_iid_data_space/evals.csv\")"
   ]
  },
  {
   "cell_type": "code",
   "execution_count": 10,
   "metadata": {},
   "outputs": [
    {
     "name": "stdout",
     "output_type": "stream",
     "text": [
      "eval metric available: ['l2-means' 'l2-stds' 'r2-means' 'r2-stds' 'r2-pairwise_feat_corrs'\n",
      " 'l2-pairwise_feat_corrs' 'mmd' 'enrichment-k50' 'enrichment-k100']\n"
     ]
    }
   ],
   "source": [
    "print('eval metric available:',eval_4i['metric'].unique())"
   ]
  },
  {
   "cell_type": "code",
   "execution_count": 12,
   "metadata": {},
   "outputs": [
    {
     "data": {
      "text/plain": [
       "array([100, 250, 500])"
      ]
     },
     "execution_count": 12,
     "metadata": {},
     "output_type": "execute_result"
    }
   ],
   "source": [
    "eval_4i.ncells.unique()"
   ]
  }
 ],
 "metadata": {
  "kernelspec": {
   "display_name": "cellot_env",
   "language": "python",
   "name": "python3"
  },
  "language_info": {
   "codemirror_mode": {
    "name": "ipython",
    "version": 3
   },
   "file_extension": ".py",
   "mimetype": "text/x-python",
   "name": "python",
   "nbconvert_exporter": "python",
   "pygments_lexer": "ipython3",
   "version": "3.8.20"
  }
 },
 "nbformat": 4,
 "nbformat_minor": 2
}
